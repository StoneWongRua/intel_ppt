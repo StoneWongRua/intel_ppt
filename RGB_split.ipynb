{
 "cells": [
  {
   "cell_type": "code",
   "execution_count": 2,
   "metadata": {},
   "outputs": [],
   "source": [
    "import cv2\n",
    "import numpy\n",
    "\n",
    "'''\n",
    "opencv里自带了分离三通道的函数split()，\n",
    "返回值依次是蓝色、绿色和红色通道的灰度图.\n",
    "定义了三个函数来获取三个通道的子矩阵。\n",
    "'''\n",
    "\n",
    "# 获取红色通道：\n",
    "def get_red(img): \n",
    "\tredImg = img[:,:,2]\n",
    "\treturn redImg\n",
    "\t\n",
    "\n",
    "# 获取绿色通道：\n",
    "def get_green(img):\n",
    "\tgreenImg = img[:,:,1]\n",
    "\treturn greenImg\n",
    "\t\n",
    "    \n",
    "# 获取蓝色通道\n",
    "def get_blue(img):\n",
    "\tblueImg = img[:,:,0]\n",
    "\treturn blueImg\n",
    "\t\n",
    "    \n",
    "# 调用上述三个函数，显示分离结果，并与之前的比较。\n",
    "if __name__ == '__main__':\n",
    "\timg = cv2.imread(\"/home/tong/图片/cat.png\")\n",
    "\tb, g, r = cv2.split(img)\n",
    "\tcv2.imshow(\"Blue 1\", b)\n",
    "\tcv2.imshow(\"Green 1\", g)\n",
    "\tcv2.imshow(\"Red 1\", r)\n",
    "\tb = get_blue(img)\n",
    "\tg = get_green(img)\n",
    "\tr = get_red(img)\n",
    "\tcv2.imshow(\"Blue 2\", b)\n",
    "\tcv2.imshow(\"Green 2\", g)\n",
    "\tcv2.imshow(\"Red 2\", r)\n",
    "\tcv2.waitKey(0)\n",
    "\tcv2.destroyAllWindows()"
   ]
  },
  {
   "cell_type": "code",
   "execution_count": 3,
   "metadata": {},
   "outputs": [
    {
     "data": {
      "text/plain": [
       "227"
      ]
     },
     "execution_count": 3,
     "metadata": {},
     "output_type": "execute_result"
    }
   ],
   "source": [
    "'''\n",
    "RGB到HSV的转换的Demo\n",
    "'''\n",
    "\n",
    "# -*- coding:utf-8 -*-\n",
    "\n",
    "import cv2\n",
    "\n",
    "\"\"\"\n",
    "功能：读取一张图片，显示出来，并转化为HSV色彩空间\n",
    "\"\"\"\n",
    "image = cv2.imread('/home/tong/图片/iron.jpeg') # 根据路径读取一张图片\n",
    "cv2.imshow(\"BGR\", image) # 显示图片\n",
    "\n",
    "\n",
    "# 转化图片到HSV色彩空间\n",
    "dst = cv2.cvtColor(image, cv2.COLOR_BGR2HSV)\n",
    "cv2.imshow(\"HSV\", dst) # 显示图片\n",
    "cv2.waitKey(0) # 等待键盘触发事件，释放窗口"
   ]
  },
  {
   "cell_type": "code",
   "execution_count": 4,
   "metadata": {},
   "outputs": [
    {
     "data": {
      "text/plain": [
       "-1"
      ]
     },
     "execution_count": 4,
     "metadata": {},
     "output_type": "execute_result"
    }
   ],
   "source": [
    "# -*- coding:utf-8 -*-\n",
    "\n",
    "import cv2\n",
    "import numpy as np   \n",
    "\n",
    "\"\"\"\n",
    "功能：读取一张图片，显示出来，并转化为HSV色彩空间\n",
    "\"\"\"\n",
    "image = cv2.imread('/home/tong/图片/iron.jpeg') # 根据路径读取一张图片\n",
    "cv2.imshow(\"BGR\", image) # 显示图片\n",
    "\n",
    "\n",
    "# 转化图片到HSV色彩空间\n",
    "dst = cv2.cvtColor(image, cv2.COLOR_BGR2HSV)\n",
    "cv2.imshow(\"HSV\", dst) # 显示图片\n",
    "\n",
    "\n",
    "\n",
    "low_hsv = np.array([0, 0, 46])\n",
    "high_hsv = np.array([200, 40, 220])\n",
    "dst = cv2.inRange(dst, low_hsv, high_hsv)\n",
    "cv2.imshow(\"result\", dst) # 显示图片\n",
    "\n",
    "cv2.waitKey(0) # 等待键盘触发事件，释放窗口"
   ]
  },
  {
   "cell_type": "code",
   "execution_count": 2,
   "metadata": {
    "scrolled": true
   },
   "outputs": [],
   "source": [
    "import cv2\n",
    "import numpy as np\n",
    "\n",
    "img = cv2.imread('/home/tong/图片/iron.jpeg')\n",
    " \n",
    "gray=cv2.cvtColor(img,cv2.COLOR_BGR2GRAY) #彩色转化为灰度\n",
    "gray=np.float32(gray) #转化为32浮点型\n",
    "dst = cv2.cornerHarris(gray,15,23,0.04)\n",
    "# 第三个参数：Sobel算法中孔，行列变化检测边缘。3-31之间奇数\n",
    "#角点检测的敏感度\n",
    "#第二个参数：参数值越小，标记角点的记号越小\n",
    "\n",
    "img[dst>0.01*dst.max()]=[0,0,255]\n",
    "cv2.namedWindow(\"corners\", cv2.WINDOW_NORMAL)\n",
    "while(True):\n",
    "    cv2.imshow('corners',img)\n",
    "    if cv2.waitKey(10000) & 0xff == ord('q'): #退出循环条件\n",
    "        break\n",
    "cv2.destroyAllWindows()\n",
    "#cv2.imshow('corners',img)\n",
    "#cv2.waitKey(0) #退出循环条件\n",
    "#cv2.destroyAllWindows()"
   ]
  },
  {
   "cell_type": "code",
   "execution_count": 1,
   "metadata": {
    "scrolled": true
   },
   "outputs": [
    {
     "data": {
      "text/plain": [
       "<Figure size 640x480 with 1 Axes>"
      ]
     },
     "metadata": {},
     "output_type": "display_data"
    },
    {
     "data": {
      "text/plain": [
       "(<matplotlib.image.AxesImage at 0x7f11aa813470>, None)"
      ]
     },
     "execution_count": 1,
     "metadata": {},
     "output_type": "execute_result"
    }
   ],
   "source": [
    "import numpy as np\n",
    "import cv2\n",
    "from matplotlib import pyplot as plt\n",
    "\n",
    "img = cv2.imread('/home/tong/图片/iron.jpeg')\n",
    "gray = cv2.cvtColor(img,cv2.COLOR_BGR2GRAY)\n",
    "\n",
    "corners = cv2.goodFeaturesToTrack(gray,25,0.01,10)\n",
    "corners = np.int0(corners)\n",
    "\n",
    "for i in corners:\n",
    "    x,y = i.ravel()\n",
    "    cv2.circle(img,(x,y),3,255,-1)\n",
    "    \n",
    "    \n",
    "cv2.imshow(\"iron\",img)\n",
    "plt.imshow(img),plt.show()"
   ]
  },
  {
   "cell_type": "code",
   "execution_count": 3,
   "metadata": {},
   "outputs": [
    {
     "name": "stdout",
     "output_type": "stream",
     "text": [
      "Threshold:  35\n",
      "nonmaxSuppression:  True\n",
      "neighborhood:  2\n",
      "Total Keypoints with nonmaxSuppression:  837\n",
      "Total Keypoints without nonmaxSuppression:  2930\n"
     ]
    }
   ],
   "source": [
    "import numpy as np\n",
    "import cv2\n",
    "\n",
    "img = cv2.imread('/home/tong/图片/iron.jpeg')\n",
    "grayImg = cv2.cvtColor(img, cv2.COLOR_BGR2GRAY)\n",
    "\n",
    "fast = cv2.FastFeatureDetector_create(threshold=35)\n",
    "\n",
    "kp = fast.detect(grayImg, None)\n",
    "img2 = cv2.drawKeypoints(img, kp, None, (255, 0, 0), cv2.DRAW_MATCHES_FLAGS_DRAW_RICH_KEYPOINTS)\n",
    "\n",
    "print('Threshold: ', fast.getThreshold())\n",
    "print('nonmaxSuppression: ', fast.getNonmaxSuppression())\n",
    "print('neighborhood: ', fast.getType())\n",
    "print('Total Keypoints with nonmaxSuppression: ', len(kp))\n",
    "\n",
    "cv2.imshow('fast_true', img2)\n",
    "\n",
    "fast.setNonmaxSuppression(False)\n",
    "kp = fast.detect(grayImg, None)\n",
    "\n",
    "print('Total Keypoints without nonmaxSuppression: ', len(kp))\n",
    "\n",
    "img3 = cv2.drawKeypoints(img, kp, None, (255, 0, 0), cv2.DRAW_MATCHES_FLAGS_DRAW_RICH_KEYPOINTS)\n",
    "\n",
    "cv2.imshow('fast_false', img3)\n",
    "\n",
    "cv2.waitKey()\n",
    "cv2.destroyAllWindows()"
   ]
  },
  {
   "cell_type": "code",
   "execution_count": 5,
   "metadata": {},
   "outputs": [],
   "source": [
    "import numpy as np\n",
    "import cv2\n",
    "\n",
    "img = cv2.imread('/home/tong/图片/iron.jpeg')\n",
    "grayImg = cv2.cvtColor(img, cv2.COLOR_BGR2GRAY)\n",
    "\n",
    "# 创建一个CenSurE检测器\n",
    "orb = cv2.ORB_create(nfeatures=200)\n",
    "\n",
    "kp, des = orb.detectAndCompute(grayImg, None)\n",
    "\n",
    "img2 = cv2.drawKeypoints(img, kp, None, (0, 255, 0), 0)\n",
    "\n",
    "cv2.imshow('KP', img2)\n",
    "cv2.waitKey()\n",
    "cv2.destroyAllWindows()"
   ]
  },
  {
   "cell_type": "code",
   "execution_count": 6,
   "metadata": {},
   "outputs": [],
   "source": [
    "import numpy as np\n",
    "import cv2\n",
    "\n",
    "img1 = cv2.imread('/home/tong/图片/iron.jpeg')\n",
    "img2 = cv2.imread('/home/tong/图片/iron_crop.png')\n",
    "grayImg1 = cv2.cvtColor(img1, cv2.COLOR_BGR2GRAY)\n",
    "grayImg2 = cv2.cvtColor(img2, cv2.COLOR_BGR2GRAY)\n",
    "matchImg = np.zeros_like(img1)\n",
    "\n",
    "orb = cv2.ORB_create(nfeatures=50)\n",
    "\n",
    "kp1, des1 = orb.detectAndCompute(grayImg1, None)\n",
    "kp2, des2 = orb.detectAndCompute(grayImg2, None)\n",
    "\n",
    "# 创建BF匹配对象 使用Hamming距离\n",
    "bf = cv2.BFMatcher_create(cv2.NORM_HAMMING, crossCheck=True)\n",
    "matches = bf.match(des1, des2)\n",
    "matches = sorted(matches, key=lambda x: x.distance)\n",
    "matchImg = cv2.drawMatches(img1, kp1, img2, kp2, matches, matchImg, \n",
    "                           flags=cv2.DRAW_MATCHES_FLAGS_NOT_DRAW_SINGLE_POINTS)\n",
    "\n",
    "cv2.imshow('match', matchImg)\n",
    "cv2.waitKey()\n",
    "cv2.destroyAllWindows()"
   ]
  },
  {
   "cell_type": "code",
   "execution_count": null,
   "metadata": {},
   "outputs": [],
   "source": []
  },
  {
   "cell_type": "code",
   "execution_count": null,
   "metadata": {},
   "outputs": [],
   "source": []
  }
 ],
 "metadata": {
  "kernelspec": {
   "display_name": "Python 3",
   "language": "python",
   "name": "python3"
  },
  "language_info": {
   "codemirror_mode": {
    "name": "ipython",
    "version": 3
   },
   "file_extension": ".py",
   "mimetype": "text/x-python",
   "name": "python",
   "nbconvert_exporter": "python",
   "pygments_lexer": "ipython3",
   "version": "3.6.8"
  }
 },
 "nbformat": 4,
 "nbformat_minor": 2
}
