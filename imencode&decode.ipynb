{
 "cells": [
  {
   "cell_type": "code",
   "execution_count": 5,
   "metadata": {},
   "outputs": [
    {
     "data": {
      "text/plain": [
       "113"
      ]
     },
     "execution_count": 5,
     "metadata": {},
     "output_type": "execute_result"
    }
   ],
   "source": [
    "# -*- coding: utf-8 -*-\n",
    "import numpy as np\n",
    "import urllib.request\n",
    "import cv2\n",
    "\n",
    "import ssl\n",
    "ssl._create_default_https_context = ssl._create_unverified_context\n",
    "\n",
    "url = 'https://s2.ax1x.com/2019/07/26/em7vDK.jpg'\n",
    "resp = urllib.request.urlopen(url)\n",
    "image = np.asarray(bytearray(resp.read()), dtype=\"uint8\")\n",
    "image = cv2.imdecode(image, cv2.IMREAD_COLOR)\n",
    "cv2.imshow('URL2Image',image)\n",
    "cv2.waitKey()"
   ]
  },
  {
   "cell_type": "code",
   "execution_count": 8,
   "metadata": {},
   "outputs": [],
   "source": [
    "\n",
    "# -*- coding: utf-8 -*-\n",
    "import numpy as np\n",
    "import urllib\n",
    "import cv2\n",
    " \n",
    "img = cv2.imread('/home/tong/图片/iron.jpeg')\n",
    "# '.jpg'表示把当前图片img按照jpg格式编码，按照不同格式编码的结果不一样\n",
    "img_encode = cv2.imencode('.jpg', img)[1]\n",
    "# imgg = cv2.imencode('.png', img)\n",
    " \n",
    "data_encode = np.array(img_encode)\n",
    "str_encode = data_encode.tostring()\n",
    " \n",
    "# 缓存数据保存到本地\n",
    "with open('img_encode.txt', 'wb') as f:\n",
    "    f.write(str_encode)\n",
    "    f.flush()"
   ]
  },
  {
   "cell_type": "code",
   "execution_count": 1,
   "metadata": {},
   "outputs": [
    {
     "name": "stderr",
     "output_type": "stream",
     "text": [
      "/usr/local/lib/python3.6/dist-packages/ipykernel_launcher.py:9: DeprecationWarning: The binary mode of fromstring is deprecated, as it behaves surprisingly on unicode inputs. Use frombuffer instead\n",
      "  if __name__ == '__main__':\n"
     ]
    },
    {
     "data": {
      "text/plain": [
       "-1"
      ]
     },
     "execution_count": 1,
     "metadata": {},
     "output_type": "execute_result"
    }
   ],
   "source": [
    "\n",
    "# -*- coding: utf-8 -*-  \n",
    "import numpy as np  \n",
    "import urllib  \n",
    "import cv2  \n",
    " \n",
    "with open('img_encode.txt', 'rb') as f:  \n",
    "    str_encode = f.read()  \n",
    "  \n",
    "nparr = np.fromstring(str_encode, np.uint8)  \n",
    "img_decode = cv2.imdecode(nparr, cv2.IMREAD_COLOR)  \n",
    "cv2.imshow(\"img_decode\", img_decode)  \n",
    "cv2.waitKey()"
   ]
  },
  {
   "cell_type": "code",
   "execution_count": null,
   "metadata": {},
   "outputs": [],
   "source": []
  }
 ],
 "metadata": {
  "kernelspec": {
   "display_name": "Python 3",
   "language": "python",
   "name": "python3"
  },
  "language_info": {
   "codemirror_mode": {
    "name": "ipython",
    "version": 3
   },
   "file_extension": ".py",
   "mimetype": "text/x-python",
   "name": "python",
   "nbconvert_exporter": "python",
   "pygments_lexer": "ipython3",
   "version": "3.6.8"
  }
 },
 "nbformat": 4,
 "nbformat_minor": 2
}
