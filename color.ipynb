{
 "cells": [
  {
   "cell_type": "code",
   "execution_count": 1,
   "metadata": {},
   "outputs": [
    {
     "data": {
      "text/plain": [
       "-1"
      ]
     },
     "execution_count": 1,
     "metadata": {},
     "output_type": "execute_result"
    }
   ],
   "source": [
    "\n",
    "import cv2 as cv\n",
    " \n",
    "def color_space(image):\n",
    "    gray = cv.cvtColor(image, cv.COLOR_BGR2GRAY)    #灰度图\n",
    "    cv.imshow(\"gray\", gray)\n",
    "    hsv = cv.cvtColor(image, cv.COLOR_BGR2HSV)      #HSV\n",
    "    cv.imshow(\"hsv\", hsv)\n",
    "\n",
    " \n",
    "img = cv.imread('/home/tong/图片/iron.jpeg')\n",
    "cv.namedWindow(\"image window\", cv.WINDOW_AUTOSIZE)\n",
    "cv.imshow(\"image window\", img)\n",
    "color_space(img)\n",
    "cv.waitKey(0)\n"
   ]
  },
  {
   "cell_type": "code",
   "execution_count": 2,
   "metadata": {},
   "outputs": [],
   "source": [
    "#!/usr/bin/env python\n",
    "# _*_ coding:utf-8 _*_\n",
    "import cv2 as cv\n",
    "import numpy as np\n",
    " \n",
    " \n",
    "#通道的分离\n",
    "img = cv.imread('/home/tong/图片/iron.jpeg')\n",
    "cv.namedWindow(\"image window\", cv.WINDOW_AUTOSIZE)\n",
    "cv.imshow(\"image window\", img)\n",
    "zeros = np.zeros(img.shape[:2],dtype=\"uint8\")\n",
    "b, g, r = cv.split(img)\n",
    "cv.imshow(\"blue\", cv.merge([b,zeros,zeros]))\n",
    "cv.imshow(\"green\", cv.merge([zeros,g,zeros]))\n",
    "cv.imshow(\"red\", cv.merge([zeros,zeros,r]))\n",
    "#通道的合并\n",
    "src = cv.merge([b, g, r])\n",
    "src[:, :, 0] = 0\n",
    "cv.imshow(\"merger image\", img)\n",
    " \n",
    "cv.waitKey(0)\n",
    "cv.destroyAllWindows()"
   ]
  },
  {
   "cell_type": "code",
   "execution_count": 3,
   "metadata": {},
   "outputs": [],
   "source": [
    "import cv2\n",
    "img = cv2.imread('/home/tong/图片/street.jpeg')\n",
    "\n",
    "img_hsv = cv2.cvtColor(img,cv2.COLOR_BGR2HSV)\n",
    "# H空间中，绿色比黄色的值高一点，所以给每个像素+15，黄色的树叶就会变绿\n",
    "turn_green_hsv = img_hsv.copy()\n",
    "turn_green_hsv[:,:,0] = (turn_green_hsv[:,:,0] + 15) % 180\n",
    "turn_green_img = cv2.cvtColor(turn_green_hsv,cv2.COLOR_HSV2BGR)\n",
    "cv2.imshow('turn_green.jpg',turn_green_img)\n",
    "cv.waitKey(0)\n",
    "cv.destroyAllWindows()\n"
   ]
  },
  {
   "cell_type": "code",
   "execution_count": 5,
   "metadata": {},
   "outputs": [],
   "source": [
    "import cv2\n",
    "img = cv2.imread('/home/tong/图片/street.jpeg')\n",
    "\n",
    "# 减小饱和度会让图像损失鲜艳，变得更灰\n",
    "colorless_hsv = img_hsv.copy()\n",
    "colorless_hsv[:,:,1] = 0.5 * colorless_hsv[:,:,1]\n",
    "colorless_img = cv2.cvtColor(colorless_hsv,cv2.COLOR_HSV2BGR)\n",
    "cv2.imshow('colorless.jpg',colorless_img)\n",
    "\n",
    "cv.waitKey(0)\n",
    "cv.destroyAllWindows()"
   ]
  },
  {
   "cell_type": "code",
   "execution_count": 13,
   "metadata": {
    "scrolled": true
   },
   "outputs": [
    {
     "data": {
      "text/plain": [
       "True"
      ]
     },
     "execution_count": 13,
     "metadata": {},
     "output_type": "execute_result"
    }
   ],
   "source": [
    "import cv2\n",
    "img = cv2.imread('/home/tong/图片/street.jpeg')\n",
    "\n",
    "darker_hsv = img_hsv.copy()\n",
    "darker_hsv[:,:,2] = 0.5 * darker_hsv[:,:,2]\n",
    "darker_img = cv2.cvtColor(darker_hsv,cv2.COLOR_HSV2BGR)\n",
    "cv2.imshow('darker.jpg',darker_img)\n"
   ]
  },
  {
   "cell_type": "code",
   "execution_count": 14,
   "metadata": {},
   "outputs": [
    {
     "data": {
      "text/plain": [
       "True"
      ]
     },
     "execution_count": 14,
     "metadata": {},
     "output_type": "execute_result"
    }
   ],
   "source": [
    "\n",
    "import numpy as np\n",
    "\n",
    "import cv2\n",
    "img = cv2.imread('/home/tong/图片/street.jpeg')\n",
    "# 分通道计算每个通道的直方图\n",
    "hist_b = cv2.calcHist([img],[0],None,[256],[0,256])\n",
    "hist_g = cv2.calcHist([img],[1],None,[256],[0,256])\n",
    "hist_r = cv2.calcHist([img],[2],None,[256],[0,256])\n",
    "# 定义Gamma矫正的函数\n",
    "def gamma_trans(img,gamma):\n",
    "    # 具体做法是先归一化到1，然后gamma作为指数值求出新的像素值再还原\n",
    "    gamma_table = [np.power(x/255.0,gamma)*255.0 for x in range(256)]\n",
    "    gamma_table = np.round(np.array(gamma_table)).astype(np.uint8)\n",
    "    \n",
    "    # 实现这个映射用的是OpenCV的查表函数\n",
    "    return cv2.LUT(img,gamma_table)\n",
    " \n",
    "# 执行Gamma矫正，小于1的值让暗部细节大量提升，同时亮部细节少量提升\n",
    "img_corrected = gamma_trans(img,0.5)\n",
    "cv2.imshow('gamma_corrected.jpg',img_corrected)\n"
   ]
  },
  {
   "cell_type": "code",
   "execution_count": null,
   "metadata": {},
   "outputs": [],
   "source": []
  }
 ],
 "metadata": {
  "kernelspec": {
   "display_name": "Python 3",
   "language": "python",
   "name": "python3"
  },
  "language_info": {
   "codemirror_mode": {
    "name": "ipython",
    "version": 3
   },
   "file_extension": ".py",
   "mimetype": "text/x-python",
   "name": "python",
   "nbconvert_exporter": "python",
   "pygments_lexer": "ipython3",
   "version": "3.6.8"
  }
 },
 "nbformat": 4,
 "nbformat_minor": 2
}
